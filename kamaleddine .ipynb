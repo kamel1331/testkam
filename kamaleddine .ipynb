git.init
git add votre_notebook.ipynb
git commit -m "Ajout de mon notebook"
git remote add origin https://github.com/username/nom-du-depot.git
git push -u origin master


